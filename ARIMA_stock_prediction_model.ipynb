{
  "nbformat": 4,
  "nbformat_minor": 0,
  "metadata": {
    "colab": {
      "name": "ARIMA stock prediction model.ipynb",
      "provenance": []
    },
    "kernelspec": {
      "name": "python3",
      "display_name": "Python 3"
    },
    "language_info": {
      "name": "python"
    }
  },
  "cells": [
    {
      "cell_type": "code",
      "execution_count": null,
      "metadata": {
        "colab": {
          "base_uri": "https://localhost:8080/"
        },
        "id": "FtzmcGQi0Jpk",
        "outputId": "19ee70e3-513e-4ba1-ab11-403a767f05fd"
      },
      "outputs": [
        {
          "output_type": "stream",
          "name": "stdout",
          "text": [
            "Collecting pmdarima\n",
            "  Downloading pmdarima-1.8.5-cp37-cp37m-manylinux_2_17_x86_64.manylinux2014_x86_64.manylinux_2_24_x86_64.whl (1.4 MB)\n",
            "\u001b[?25l\r\u001b[K     |▎                               | 10 kB 26.9 MB/s eta 0:00:01\r\u001b[K     |▌                               | 20 kB 30.5 MB/s eta 0:00:01\r\u001b[K     |▊                               | 30 kB 19.0 MB/s eta 0:00:01\r\u001b[K     |█                               | 40 kB 12.7 MB/s eta 0:00:01\r\u001b[K     |█▏                              | 51 kB 5.8 MB/s eta 0:00:01\r\u001b[K     |█▍                              | 61 kB 6.9 MB/s eta 0:00:01\r\u001b[K     |█▋                              | 71 kB 7.4 MB/s eta 0:00:01\r\u001b[K     |██                              | 81 kB 6.3 MB/s eta 0:00:01\r\u001b[K     |██▏                             | 92 kB 7.0 MB/s eta 0:00:01\r\u001b[K     |██▍                             | 102 kB 7.7 MB/s eta 0:00:01\r\u001b[K     |██▋                             | 112 kB 7.7 MB/s eta 0:00:01\r\u001b[K     |██▉                             | 122 kB 7.7 MB/s eta 0:00:01\r\u001b[K     |███                             | 133 kB 7.7 MB/s eta 0:00:01\r\u001b[K     |███▎                            | 143 kB 7.7 MB/s eta 0:00:01\r\u001b[K     |███▌                            | 153 kB 7.7 MB/s eta 0:00:01\r\u001b[K     |███▉                            | 163 kB 7.7 MB/s eta 0:00:01\r\u001b[K     |████                            | 174 kB 7.7 MB/s eta 0:00:01\r\u001b[K     |████▎                           | 184 kB 7.7 MB/s eta 0:00:01\r\u001b[K     |████▌                           | 194 kB 7.7 MB/s eta 0:00:01\r\u001b[K     |████▊                           | 204 kB 7.7 MB/s eta 0:00:01\r\u001b[K     |█████                           | 215 kB 7.7 MB/s eta 0:00:01\r\u001b[K     |█████▏                          | 225 kB 7.7 MB/s eta 0:00:01\r\u001b[K     |█████▍                          | 235 kB 7.7 MB/s eta 0:00:01\r\u001b[K     |█████▊                          | 245 kB 7.7 MB/s eta 0:00:01\r\u001b[K     |██████                          | 256 kB 7.7 MB/s eta 0:00:01\r\u001b[K     |██████▏                         | 266 kB 7.7 MB/s eta 0:00:01\r\u001b[K     |██████▍                         | 276 kB 7.7 MB/s eta 0:00:01\r\u001b[K     |██████▋                         | 286 kB 7.7 MB/s eta 0:00:01\r\u001b[K     |██████▉                         | 296 kB 7.7 MB/s eta 0:00:01\r\u001b[K     |███████                         | 307 kB 7.7 MB/s eta 0:00:01\r\u001b[K     |███████▎                        | 317 kB 7.7 MB/s eta 0:00:01\r\u001b[K     |███████▋                        | 327 kB 7.7 MB/s eta 0:00:01\r\u001b[K     |███████▉                        | 337 kB 7.7 MB/s eta 0:00:01\r\u001b[K     |████████                        | 348 kB 7.7 MB/s eta 0:00:01\r\u001b[K     |████████▎                       | 358 kB 7.7 MB/s eta 0:00:01\r\u001b[K     |████████▌                       | 368 kB 7.7 MB/s eta 0:00:01\r\u001b[K     |████████▊                       | 378 kB 7.7 MB/s eta 0:00:01\r\u001b[K     |█████████                       | 389 kB 7.7 MB/s eta 0:00:01\r\u001b[K     |█████████▎                      | 399 kB 7.7 MB/s eta 0:00:01\r\u001b[K     |█████████▌                      | 409 kB 7.7 MB/s eta 0:00:01\r\u001b[K     |█████████▊                      | 419 kB 7.7 MB/s eta 0:00:01\r\u001b[K     |██████████                      | 430 kB 7.7 MB/s eta 0:00:01\r\u001b[K     |██████████▏                     | 440 kB 7.7 MB/s eta 0:00:01\r\u001b[K     |██████████▍                     | 450 kB 7.7 MB/s eta 0:00:01\r\u001b[K     |██████████▋                     | 460 kB 7.7 MB/s eta 0:00:01\r\u001b[K     |██████████▉                     | 471 kB 7.7 MB/s eta 0:00:01\r\u001b[K     |███████████▏                    | 481 kB 7.7 MB/s eta 0:00:01\r\u001b[K     |███████████▍                    | 491 kB 7.7 MB/s eta 0:00:01\r\u001b[K     |███████████▋                    | 501 kB 7.7 MB/s eta 0:00:01\r\u001b[K     |███████████▉                    | 512 kB 7.7 MB/s eta 0:00:01\r\u001b[K     |████████████                    | 522 kB 7.7 MB/s eta 0:00:01\r\u001b[K     |████████████▎                   | 532 kB 7.7 MB/s eta 0:00:01\r\u001b[K     |████████████▌                   | 542 kB 7.7 MB/s eta 0:00:01\r\u001b[K     |████████████▊                   | 552 kB 7.7 MB/s eta 0:00:01\r\u001b[K     |█████████████                   | 563 kB 7.7 MB/s eta 0:00:01\r\u001b[K     |█████████████▎                  | 573 kB 7.7 MB/s eta 0:00:01\r\u001b[K     |█████████████▌                  | 583 kB 7.7 MB/s eta 0:00:01\r\u001b[K     |█████████████▊                  | 593 kB 7.7 MB/s eta 0:00:01\r\u001b[K     |██████████████                  | 604 kB 7.7 MB/s eta 0:00:01\r\u001b[K     |██████████████▏                 | 614 kB 7.7 MB/s eta 0:00:01\r\u001b[K     |██████████████▍                 | 624 kB 7.7 MB/s eta 0:00:01\r\u001b[K     |██████████████▋                 | 634 kB 7.7 MB/s eta 0:00:01\r\u001b[K     |███████████████                 | 645 kB 7.7 MB/s eta 0:00:01\r\u001b[K     |███████████████▏                | 655 kB 7.7 MB/s eta 0:00:01\r\u001b[K     |███████████████▍                | 665 kB 7.7 MB/s eta 0:00:01\r\u001b[K     |███████████████▋                | 675 kB 7.7 MB/s eta 0:00:01\r\u001b[K     |███████████████▉                | 686 kB 7.7 MB/s eta 0:00:01\r\u001b[K     |████████████████                | 696 kB 7.7 MB/s eta 0:00:01\r\u001b[K     |████████████████▎               | 706 kB 7.7 MB/s eta 0:00:01\r\u001b[K     |████████████████▋               | 716 kB 7.7 MB/s eta 0:00:01\r\u001b[K     |████████████████▉               | 727 kB 7.7 MB/s eta 0:00:01\r\u001b[K     |█████████████████               | 737 kB 7.7 MB/s eta 0:00:01\r\u001b[K     |█████████████████▎              | 747 kB 7.7 MB/s eta 0:00:01\r\u001b[K     |█████████████████▌              | 757 kB 7.7 MB/s eta 0:00:01\r\u001b[K     |█████████████████▊              | 768 kB 7.7 MB/s eta 0:00:01\r\u001b[K     |██████████████████              | 778 kB 7.7 MB/s eta 0:00:01\r\u001b[K     |██████████████████▏             | 788 kB 7.7 MB/s eta 0:00:01\r\u001b[K     |██████████████████▌             | 798 kB 7.7 MB/s eta 0:00:01\r\u001b[K     |██████████████████▊             | 808 kB 7.7 MB/s eta 0:00:01\r\u001b[K     |███████████████████             | 819 kB 7.7 MB/s eta 0:00:01\r\u001b[K     |███████████████████▏            | 829 kB 7.7 MB/s eta 0:00:01\r\u001b[K     |███████████████████▍            | 839 kB 7.7 MB/s eta 0:00:01\r\u001b[K     |███████████████████▋            | 849 kB 7.7 MB/s eta 0:00:01\r\u001b[K     |███████████████████▉            | 860 kB 7.7 MB/s eta 0:00:01\r\u001b[K     |████████████████████            | 870 kB 7.7 MB/s eta 0:00:01\r\u001b[K     |████████████████████▍           | 880 kB 7.7 MB/s eta 0:00:01\r\u001b[K     |████████████████████▋           | 890 kB 7.7 MB/s eta 0:00:01\r\u001b[K     |████████████████████▉           | 901 kB 7.7 MB/s eta 0:00:01\r\u001b[K     |█████████████████████           | 911 kB 7.7 MB/s eta 0:00:01\r\u001b[K     |█████████████████████▎          | 921 kB 7.7 MB/s eta 0:00:01\r\u001b[K     |█████████████████████▌          | 931 kB 7.7 MB/s eta 0:00:01\r\u001b[K     |█████████████████████▊          | 942 kB 7.7 MB/s eta 0:00:01\r\u001b[K     |██████████████████████          | 952 kB 7.7 MB/s eta 0:00:01\r\u001b[K     |██████████████████████▎         | 962 kB 7.7 MB/s eta 0:00:01\r\u001b[K     |██████████████████████▌         | 972 kB 7.7 MB/s eta 0:00:01\r\u001b[K     |██████████████████████▊         | 983 kB 7.7 MB/s eta 0:00:01\r\u001b[K     |███████████████████████         | 993 kB 7.7 MB/s eta 0:00:01\r\u001b[K     |███████████████████████▏        | 1.0 MB 7.7 MB/s eta 0:00:01\r\u001b[K     |███████████████████████▍        | 1.0 MB 7.7 MB/s eta 0:00:01\r\u001b[K     |███████████████████████▋        | 1.0 MB 7.7 MB/s eta 0:00:01\r\u001b[K     |████████████████████████        | 1.0 MB 7.7 MB/s eta 0:00:01\r\u001b[K     |████████████████████████▏       | 1.0 MB 7.7 MB/s eta 0:00:01\r\u001b[K     |████████████████████████▍       | 1.1 MB 7.7 MB/s eta 0:00:01\r\u001b[K     |████████████████████████▋       | 1.1 MB 7.7 MB/s eta 0:00:01\r\u001b[K     |████████████████████████▉       | 1.1 MB 7.7 MB/s eta 0:00:01\r\u001b[K     |█████████████████████████       | 1.1 MB 7.7 MB/s eta 0:00:01\r\u001b[K     |█████████████████████████▎      | 1.1 MB 7.7 MB/s eta 0:00:01\r\u001b[K     |█████████████████████████▌      | 1.1 MB 7.7 MB/s eta 0:00:01\r\u001b[K     |█████████████████████████▉      | 1.1 MB 7.7 MB/s eta 0:00:01\r\u001b[K     |██████████████████████████      | 1.1 MB 7.7 MB/s eta 0:00:01\r\u001b[K     |██████████████████████████▎     | 1.1 MB 7.7 MB/s eta 0:00:01\r\u001b[K     |██████████████████████████▌     | 1.1 MB 7.7 MB/s eta 0:00:01\r\u001b[K     |██████████████████████████▊     | 1.2 MB 7.7 MB/s eta 0:00:01\r\u001b[K     |███████████████████████████     | 1.2 MB 7.7 MB/s eta 0:00:01\r\u001b[K     |███████████████████████████▏    | 1.2 MB 7.7 MB/s eta 0:00:01\r\u001b[K     |███████████████████████████▍    | 1.2 MB 7.7 MB/s eta 0:00:01\r\u001b[K     |███████████████████████████▊    | 1.2 MB 7.7 MB/s eta 0:00:01\r\u001b[K     |████████████████████████████    | 1.2 MB 7.7 MB/s eta 0:00:01\r\u001b[K     |████████████████████████████▏   | 1.2 MB 7.7 MB/s eta 0:00:01\r\u001b[K     |████████████████████████████▍   | 1.2 MB 7.7 MB/s eta 0:00:01\r\u001b[K     |████████████████████████████▋   | 1.2 MB 7.7 MB/s eta 0:00:01\r\u001b[K     |████████████████████████████▉   | 1.2 MB 7.7 MB/s eta 0:00:01\r\u001b[K     |█████████████████████████████   | 1.3 MB 7.7 MB/s eta 0:00:01\r\u001b[K     |█████████████████████████████▎  | 1.3 MB 7.7 MB/s eta 0:00:01\r\u001b[K     |█████████████████████████████▋  | 1.3 MB 7.7 MB/s eta 0:00:01\r\u001b[K     |█████████████████████████████▉  | 1.3 MB 7.7 MB/s eta 0:00:01\r\u001b[K     |██████████████████████████████  | 1.3 MB 7.7 MB/s eta 0:00:01\r\u001b[K     |██████████████████████████████▎ | 1.3 MB 7.7 MB/s eta 0:00:01\r\u001b[K     |██████████████████████████████▌ | 1.3 MB 7.7 MB/s eta 0:00:01\r\u001b[K     |██████████████████████████████▊ | 1.3 MB 7.7 MB/s eta 0:00:01\r\u001b[K     |███████████████████████████████ | 1.3 MB 7.7 MB/s eta 0:00:01\r\u001b[K     |███████████████████████████████▎| 1.4 MB 7.7 MB/s eta 0:00:01\r\u001b[K     |███████████████████████████████▌| 1.4 MB 7.7 MB/s eta 0:00:01\r\u001b[K     |███████████████████████████████▊| 1.4 MB 7.7 MB/s eta 0:00:01\r\u001b[K     |████████████████████████████████| 1.4 MB 7.7 MB/s eta 0:00:01\r\u001b[K     |████████████████████████████████| 1.4 MB 7.7 MB/s \n",
            "\u001b[?25hRequirement already satisfied: numpy>=1.19.3 in /usr/local/lib/python3.7/dist-packages (from pmdarima) (1.21.6)\n",
            "Requirement already satisfied: pandas>=0.19 in /usr/local/lib/python3.7/dist-packages (from pmdarima) (1.3.5)\n",
            "Collecting statsmodels!=0.12.0,>=0.11\n",
            "  Downloading statsmodels-0.13.2-cp37-cp37m-manylinux_2_17_x86_64.manylinux2014_x86_64.whl (9.8 MB)\n",
            "\u001b[K     |████████████████████████████████| 9.8 MB 32.2 MB/s \n",
            "\u001b[?25hRequirement already satisfied: setuptools!=50.0.0,>=38.6.0 in /usr/local/lib/python3.7/dist-packages (from pmdarima) (57.4.0)\n",
            "Requirement already satisfied: urllib3 in /usr/local/lib/python3.7/dist-packages (from pmdarima) (1.24.3)\n",
            "Requirement already satisfied: scikit-learn>=0.22 in /usr/local/lib/python3.7/dist-packages (from pmdarima) (1.0.2)\n",
            "Requirement already satisfied: joblib>=0.11 in /usr/local/lib/python3.7/dist-packages (from pmdarima) (1.1.0)\n",
            "Requirement already satisfied: scipy>=1.3.2 in /usr/local/lib/python3.7/dist-packages (from pmdarima) (1.4.1)\n",
            "Requirement already satisfied: Cython!=0.29.18,>=0.29 in /usr/local/lib/python3.7/dist-packages (from pmdarima) (0.29.28)\n",
            "Requirement already satisfied: python-dateutil>=2.7.3 in /usr/local/lib/python3.7/dist-packages (from pandas>=0.19->pmdarima) (2.8.2)\n",
            "Requirement already satisfied: pytz>=2017.3 in /usr/local/lib/python3.7/dist-packages (from pandas>=0.19->pmdarima) (2022.1)\n",
            "Requirement already satisfied: six>=1.5 in /usr/local/lib/python3.7/dist-packages (from python-dateutil>=2.7.3->pandas>=0.19->pmdarima) (1.15.0)\n",
            "Requirement already satisfied: threadpoolctl>=2.0.0 in /usr/local/lib/python3.7/dist-packages (from scikit-learn>=0.22->pmdarima) (3.1.0)\n",
            "Requirement already satisfied: patsy>=0.5.2 in /usr/local/lib/python3.7/dist-packages (from statsmodels!=0.12.0,>=0.11->pmdarima) (0.5.2)\n",
            "Requirement already satisfied: packaging>=21.3 in /usr/local/lib/python3.7/dist-packages (from statsmodels!=0.12.0,>=0.11->pmdarima) (21.3)\n",
            "Requirement already satisfied: pyparsing!=3.0.5,>=2.0.2 in /usr/local/lib/python3.7/dist-packages (from packaging>=21.3->statsmodels!=0.12.0,>=0.11->pmdarima) (3.0.8)\n",
            "Installing collected packages: statsmodels, pmdarima\n",
            "  Attempting uninstall: statsmodels\n",
            "    Found existing installation: statsmodels 0.10.2\n",
            "    Uninstalling statsmodels-0.10.2:\n",
            "      Successfully uninstalled statsmodels-0.10.2\n",
            "Successfully installed pmdarima-1.8.5 statsmodels-0.13.2\n"
          ]
        }
      ],
      "source": [
        "pip install pmdarima"
      ]
    },
    {
      "cell_type": "code",
      "source": [
        "import numpy as np \n",
        "import pandas as pd \n",
        "import os\n",
        "from subprocess import check_output\n",
        "import seaborn as sns\n",
        "import matplotlib as mpl\n",
        "import matplotlib.pyplot as plt\n",
        "from pandas.plotting import lag_plot\n",
        "from pandas import datetime\n",
        "from statsmodels.tsa.arima_model import ARIMA\n",
        "from sklearn.metrics import mean_squared_error\n",
        "from sklearn.metrics import mean_absolute_error\n"
      ],
      "metadata": {
        "colab": {
          "base_uri": "https://localhost:8080/"
        },
        "id": "UVqZ5vye0QH5",
        "outputId": "90456659-a7ab-45af-c8fc-a1b33e5d0d6a"
      },
      "execution_count": null,
      "outputs": [
        {
          "output_type": "stream",
          "name": "stderr",
          "text": [
            "/usr/local/lib/python3.7/dist-packages/ipykernel_launcher.py:9: FutureWarning: The pandas.datetime class is deprecated and will be removed from pandas in a future version. Import from datetime module instead.\n",
            "  if __name__ == '__main__':\n"
          ]
        }
      ]
    },
    {
      "cell_type": "code",
      "source": [
        "dateparse = lambda dates: pd.datetime.strptime(dates, '%Y-%m-%d')\n",
        "stock_data = pd.read_csv('trainset.csv',sep=',', index_col='Date', parse_dates=['Date'], date_parser=dateparse).fillna(0)\n",
        "stock_data"
      ],
      "metadata": {
        "colab": {
          "base_uri": "https://localhost:8080/",
          "height": 510
        },
        "id": "XC_NXHHO0ddj",
        "outputId": "519a0ee8-d896-4815-8e36-d939d27e63a0"
      },
      "execution_count": null,
      "outputs": [
        {
          "output_type": "stream",
          "name": "stderr",
          "text": [
            "/usr/local/lib/python3.7/dist-packages/ipykernel_launcher.py:1: FutureWarning: The pandas.datetime class is deprecated and will be removed from pandas in a future version. Import from datetime module instead.\n",
            "  \"\"\"Entry point for launching an IPython kernel.\n"
          ]
        },
        {
          "output_type": "execute_result",
          "data": {
            "text/plain": [
              "                   Open         High          Low        Close    Adj Close  \\\n",
              "Date                                                                          \n",
              "2013-01-02   357.385559   361.151062   355.959839   359.288177   359.288177   \n",
              "2013-01-03   360.122742   363.600128   358.031342   359.496826   359.496826   \n",
              "2013-01-04   362.313507   368.339294   361.488861   366.600616   366.600616   \n",
              "2013-01-07   365.348755   367.301056   362.929504   365.001007   365.001007   \n",
              "2013-01-08   365.393463   365.771027   359.874359   364.280701   364.280701   \n",
              "...                 ...          ...          ...          ...          ...   \n",
              "2017-12-22  1061.109985  1064.199951  1059.439941  1060.119995  1060.119995   \n",
              "2017-12-26  1058.069946  1060.119995  1050.199951  1056.739990  1056.739990   \n",
              "2017-12-27  1057.390015  1058.369995  1048.050049  1049.369995  1049.369995   \n",
              "2017-12-28  1051.599976  1054.750000  1044.770020  1048.140015  1048.140015   \n",
              "2017-12-29  1046.719971  1049.699951  1044.900024  1046.400024  1046.400024   \n",
              "\n",
              "             Volume  \n",
              "Date                 \n",
              "2013-01-02  5115500  \n",
              "2013-01-03  4666500  \n",
              "2013-01-04  5562800  \n",
              "2013-01-07  3332900  \n",
              "2013-01-08  3373900  \n",
              "...             ...  \n",
              "2017-12-22   755100  \n",
              "2017-12-26   760600  \n",
              "2017-12-27  1271900  \n",
              "2017-12-28   837100  \n",
              "2017-12-29   887500  \n",
              "\n",
              "[1259 rows x 6 columns]"
            ],
            "text/html": [
              "\n",
              "  <div id=\"df-a9ac73e2-8478-4414-90a0-7dfb1ed76679\">\n",
              "    <div class=\"colab-df-container\">\n",
              "      <div>\n",
              "<style scoped>\n",
              "    .dataframe tbody tr th:only-of-type {\n",
              "        vertical-align: middle;\n",
              "    }\n",
              "\n",
              "    .dataframe tbody tr th {\n",
              "        vertical-align: top;\n",
              "    }\n",
              "\n",
              "    .dataframe thead th {\n",
              "        text-align: right;\n",
              "    }\n",
              "</style>\n",
              "<table border=\"1\" class=\"dataframe\">\n",
              "  <thead>\n",
              "    <tr style=\"text-align: right;\">\n",
              "      <th></th>\n",
              "      <th>Open</th>\n",
              "      <th>High</th>\n",
              "      <th>Low</th>\n",
              "      <th>Close</th>\n",
              "      <th>Adj Close</th>\n",
              "      <th>Volume</th>\n",
              "    </tr>\n",
              "    <tr>\n",
              "      <th>Date</th>\n",
              "      <th></th>\n",
              "      <th></th>\n",
              "      <th></th>\n",
              "      <th></th>\n",
              "      <th></th>\n",
              "      <th></th>\n",
              "    </tr>\n",
              "  </thead>\n",
              "  <tbody>\n",
              "    <tr>\n",
              "      <th>2013-01-02</th>\n",
              "      <td>357.385559</td>\n",
              "      <td>361.151062</td>\n",
              "      <td>355.959839</td>\n",
              "      <td>359.288177</td>\n",
              "      <td>359.288177</td>\n",
              "      <td>5115500</td>\n",
              "    </tr>\n",
              "    <tr>\n",
              "      <th>2013-01-03</th>\n",
              "      <td>360.122742</td>\n",
              "      <td>363.600128</td>\n",
              "      <td>358.031342</td>\n",
              "      <td>359.496826</td>\n",
              "      <td>359.496826</td>\n",
              "      <td>4666500</td>\n",
              "    </tr>\n",
              "    <tr>\n",
              "      <th>2013-01-04</th>\n",
              "      <td>362.313507</td>\n",
              "      <td>368.339294</td>\n",
              "      <td>361.488861</td>\n",
              "      <td>366.600616</td>\n",
              "      <td>366.600616</td>\n",
              "      <td>5562800</td>\n",
              "    </tr>\n",
              "    <tr>\n",
              "      <th>2013-01-07</th>\n",
              "      <td>365.348755</td>\n",
              "      <td>367.301056</td>\n",
              "      <td>362.929504</td>\n",
              "      <td>365.001007</td>\n",
              "      <td>365.001007</td>\n",
              "      <td>3332900</td>\n",
              "    </tr>\n",
              "    <tr>\n",
              "      <th>2013-01-08</th>\n",
              "      <td>365.393463</td>\n",
              "      <td>365.771027</td>\n",
              "      <td>359.874359</td>\n",
              "      <td>364.280701</td>\n",
              "      <td>364.280701</td>\n",
              "      <td>3373900</td>\n",
              "    </tr>\n",
              "    <tr>\n",
              "      <th>...</th>\n",
              "      <td>...</td>\n",
              "      <td>...</td>\n",
              "      <td>...</td>\n",
              "      <td>...</td>\n",
              "      <td>...</td>\n",
              "      <td>...</td>\n",
              "    </tr>\n",
              "    <tr>\n",
              "      <th>2017-12-22</th>\n",
              "      <td>1061.109985</td>\n",
              "      <td>1064.199951</td>\n",
              "      <td>1059.439941</td>\n",
              "      <td>1060.119995</td>\n",
              "      <td>1060.119995</td>\n",
              "      <td>755100</td>\n",
              "    </tr>\n",
              "    <tr>\n",
              "      <th>2017-12-26</th>\n",
              "      <td>1058.069946</td>\n",
              "      <td>1060.119995</td>\n",
              "      <td>1050.199951</td>\n",
              "      <td>1056.739990</td>\n",
              "      <td>1056.739990</td>\n",
              "      <td>760600</td>\n",
              "    </tr>\n",
              "    <tr>\n",
              "      <th>2017-12-27</th>\n",
              "      <td>1057.390015</td>\n",
              "      <td>1058.369995</td>\n",
              "      <td>1048.050049</td>\n",
              "      <td>1049.369995</td>\n",
              "      <td>1049.369995</td>\n",
              "      <td>1271900</td>\n",
              "    </tr>\n",
              "    <tr>\n",
              "      <th>2017-12-28</th>\n",
              "      <td>1051.599976</td>\n",
              "      <td>1054.750000</td>\n",
              "      <td>1044.770020</td>\n",
              "      <td>1048.140015</td>\n",
              "      <td>1048.140015</td>\n",
              "      <td>837100</td>\n",
              "    </tr>\n",
              "    <tr>\n",
              "      <th>2017-12-29</th>\n",
              "      <td>1046.719971</td>\n",
              "      <td>1049.699951</td>\n",
              "      <td>1044.900024</td>\n",
              "      <td>1046.400024</td>\n",
              "      <td>1046.400024</td>\n",
              "      <td>887500</td>\n",
              "    </tr>\n",
              "  </tbody>\n",
              "</table>\n",
              "<p>1259 rows × 6 columns</p>\n",
              "</div>\n",
              "      <button class=\"colab-df-convert\" onclick=\"convertToInteractive('df-a9ac73e2-8478-4414-90a0-7dfb1ed76679')\"\n",
              "              title=\"Convert this dataframe to an interactive table.\"\n",
              "              style=\"display:none;\">\n",
              "        \n",
              "  <svg xmlns=\"http://www.w3.org/2000/svg\" height=\"24px\"viewBox=\"0 0 24 24\"\n",
              "       width=\"24px\">\n",
              "    <path d=\"M0 0h24v24H0V0z\" fill=\"none\"/>\n",
              "    <path d=\"M18.56 5.44l.94 2.06.94-2.06 2.06-.94-2.06-.94-.94-2.06-.94 2.06-2.06.94zm-11 1L8.5 8.5l.94-2.06 2.06-.94-2.06-.94L8.5 2.5l-.94 2.06-2.06.94zm10 10l.94 2.06.94-2.06 2.06-.94-2.06-.94-.94-2.06-.94 2.06-2.06.94z\"/><path d=\"M17.41 7.96l-1.37-1.37c-.4-.4-.92-.59-1.43-.59-.52 0-1.04.2-1.43.59L10.3 9.45l-7.72 7.72c-.78.78-.78 2.05 0 2.83L4 21.41c.39.39.9.59 1.41.59.51 0 1.02-.2 1.41-.59l7.78-7.78 2.81-2.81c.8-.78.8-2.07 0-2.86zM5.41 20L4 18.59l7.72-7.72 1.47 1.35L5.41 20z\"/>\n",
              "  </svg>\n",
              "      </button>\n",
              "      \n",
              "  <style>\n",
              "    .colab-df-container {\n",
              "      display:flex;\n",
              "      flex-wrap:wrap;\n",
              "      gap: 12px;\n",
              "    }\n",
              "\n",
              "    .colab-df-convert {\n",
              "      background-color: #E8F0FE;\n",
              "      border: none;\n",
              "      border-radius: 50%;\n",
              "      cursor: pointer;\n",
              "      display: none;\n",
              "      fill: #1967D2;\n",
              "      height: 32px;\n",
              "      padding: 0 0 0 0;\n",
              "      width: 32px;\n",
              "    }\n",
              "\n",
              "    .colab-df-convert:hover {\n",
              "      background-color: #E2EBFA;\n",
              "      box-shadow: 0px 1px 2px rgba(60, 64, 67, 0.3), 0px 1px 3px 1px rgba(60, 64, 67, 0.15);\n",
              "      fill: #174EA6;\n",
              "    }\n",
              "\n",
              "    [theme=dark] .colab-df-convert {\n",
              "      background-color: #3B4455;\n",
              "      fill: #D2E3FC;\n",
              "    }\n",
              "\n",
              "    [theme=dark] .colab-df-convert:hover {\n",
              "      background-color: #434B5C;\n",
              "      box-shadow: 0px 1px 3px 1px rgba(0, 0, 0, 0.15);\n",
              "      filter: drop-shadow(0px 1px 2px rgba(0, 0, 0, 0.3));\n",
              "      fill: #FFFFFF;\n",
              "    }\n",
              "  </style>\n",
              "\n",
              "      <script>\n",
              "        const buttonEl =\n",
              "          document.querySelector('#df-a9ac73e2-8478-4414-90a0-7dfb1ed76679 button.colab-df-convert');\n",
              "        buttonEl.style.display =\n",
              "          google.colab.kernel.accessAllowed ? 'block' : 'none';\n",
              "\n",
              "        async function convertToInteractive(key) {\n",
              "          const element = document.querySelector('#df-a9ac73e2-8478-4414-90a0-7dfb1ed76679');\n",
              "          const dataTable =\n",
              "            await google.colab.kernel.invokeFunction('convertToInteractive',\n",
              "                                                     [key], {});\n",
              "          if (!dataTable) return;\n",
              "\n",
              "          const docLinkHtml = 'Like what you see? Visit the ' +\n",
              "            '<a target=\"_blank\" href=https://colab.research.google.com/notebooks/data_table.ipynb>data table notebook</a>'\n",
              "            + ' to learn more about interactive tables.';\n",
              "          element.innerHTML = '';\n",
              "          dataTable['output_type'] = 'display_data';\n",
              "          await google.colab.output.renderOutput(dataTable, element);\n",
              "          const docLink = document.createElement('div');\n",
              "          docLink.innerHTML = docLinkHtml;\n",
              "          element.appendChild(docLink);\n",
              "        }\n",
              "      </script>\n",
              "    </div>\n",
              "  </div>\n",
              "  "
            ]
          },
          "metadata": {},
          "execution_count": 3
        }
      ]
    },
    {
      "cell_type": "code",
      "source": [
        "stock_data.head()"
      ],
      "metadata": {
        "colab": {
          "base_uri": "https://localhost:8080/",
          "height": 237
        },
        "id": "i3jsYDO3-b-V",
        "outputId": "a50f0c9d-7cd2-4055-991f-95f0b11a4c49"
      },
      "execution_count": null,
      "outputs": [
        {
          "output_type": "execute_result",
          "data": {
            "text/plain": [
              "                  Open        High         Low       Close   Adj Close  \\\n",
              "Date                                                                     \n",
              "2013-01-02  357.385559  361.151062  355.959839  359.288177  359.288177   \n",
              "2013-01-03  360.122742  363.600128  358.031342  359.496826  359.496826   \n",
              "2013-01-04  362.313507  368.339294  361.488861  366.600616  366.600616   \n",
              "2013-01-07  365.348755  367.301056  362.929504  365.001007  365.001007   \n",
              "2013-01-08  365.393463  365.771027  359.874359  364.280701  364.280701   \n",
              "\n",
              "             Volume  \n",
              "Date                 \n",
              "2013-01-02  5115500  \n",
              "2013-01-03  4666500  \n",
              "2013-01-04  5562800  \n",
              "2013-01-07  3332900  \n",
              "2013-01-08  3373900  "
            ],
            "text/html": [
              "\n",
              "  <div id=\"df-5c33bfd6-dfa5-40a1-90d2-048abacfba54\">\n",
              "    <div class=\"colab-df-container\">\n",
              "      <div>\n",
              "<style scoped>\n",
              "    .dataframe tbody tr th:only-of-type {\n",
              "        vertical-align: middle;\n",
              "    }\n",
              "\n",
              "    .dataframe tbody tr th {\n",
              "        vertical-align: top;\n",
              "    }\n",
              "\n",
              "    .dataframe thead th {\n",
              "        text-align: right;\n",
              "    }\n",
              "</style>\n",
              "<table border=\"1\" class=\"dataframe\">\n",
              "  <thead>\n",
              "    <tr style=\"text-align: right;\">\n",
              "      <th></th>\n",
              "      <th>Open</th>\n",
              "      <th>High</th>\n",
              "      <th>Low</th>\n",
              "      <th>Close</th>\n",
              "      <th>Adj Close</th>\n",
              "      <th>Volume</th>\n",
              "    </tr>\n",
              "    <tr>\n",
              "      <th>Date</th>\n",
              "      <th></th>\n",
              "      <th></th>\n",
              "      <th></th>\n",
              "      <th></th>\n",
              "      <th></th>\n",
              "      <th></th>\n",
              "    </tr>\n",
              "  </thead>\n",
              "  <tbody>\n",
              "    <tr>\n",
              "      <th>2013-01-02</th>\n",
              "      <td>357.385559</td>\n",
              "      <td>361.151062</td>\n",
              "      <td>355.959839</td>\n",
              "      <td>359.288177</td>\n",
              "      <td>359.288177</td>\n",
              "      <td>5115500</td>\n",
              "    </tr>\n",
              "    <tr>\n",
              "      <th>2013-01-03</th>\n",
              "      <td>360.122742</td>\n",
              "      <td>363.600128</td>\n",
              "      <td>358.031342</td>\n",
              "      <td>359.496826</td>\n",
              "      <td>359.496826</td>\n",
              "      <td>4666500</td>\n",
              "    </tr>\n",
              "    <tr>\n",
              "      <th>2013-01-04</th>\n",
              "      <td>362.313507</td>\n",
              "      <td>368.339294</td>\n",
              "      <td>361.488861</td>\n",
              "      <td>366.600616</td>\n",
              "      <td>366.600616</td>\n",
              "      <td>5562800</td>\n",
              "    </tr>\n",
              "    <tr>\n",
              "      <th>2013-01-07</th>\n",
              "      <td>365.348755</td>\n",
              "      <td>367.301056</td>\n",
              "      <td>362.929504</td>\n",
              "      <td>365.001007</td>\n",
              "      <td>365.001007</td>\n",
              "      <td>3332900</td>\n",
              "    </tr>\n",
              "    <tr>\n",
              "      <th>2013-01-08</th>\n",
              "      <td>365.393463</td>\n",
              "      <td>365.771027</td>\n",
              "      <td>359.874359</td>\n",
              "      <td>364.280701</td>\n",
              "      <td>364.280701</td>\n",
              "      <td>3373900</td>\n",
              "    </tr>\n",
              "  </tbody>\n",
              "</table>\n",
              "</div>\n",
              "      <button class=\"colab-df-convert\" onclick=\"convertToInteractive('df-5c33bfd6-dfa5-40a1-90d2-048abacfba54')\"\n",
              "              title=\"Convert this dataframe to an interactive table.\"\n",
              "              style=\"display:none;\">\n",
              "        \n",
              "  <svg xmlns=\"http://www.w3.org/2000/svg\" height=\"24px\"viewBox=\"0 0 24 24\"\n",
              "       width=\"24px\">\n",
              "    <path d=\"M0 0h24v24H0V0z\" fill=\"none\"/>\n",
              "    <path d=\"M18.56 5.44l.94 2.06.94-2.06 2.06-.94-2.06-.94-.94-2.06-.94 2.06-2.06.94zm-11 1L8.5 8.5l.94-2.06 2.06-.94-2.06-.94L8.5 2.5l-.94 2.06-2.06.94zm10 10l.94 2.06.94-2.06 2.06-.94-2.06-.94-.94-2.06-.94 2.06-2.06.94z\"/><path d=\"M17.41 7.96l-1.37-1.37c-.4-.4-.92-.59-1.43-.59-.52 0-1.04.2-1.43.59L10.3 9.45l-7.72 7.72c-.78.78-.78 2.05 0 2.83L4 21.41c.39.39.9.59 1.41.59.51 0 1.02-.2 1.41-.59l7.78-7.78 2.81-2.81c.8-.78.8-2.07 0-2.86zM5.41 20L4 18.59l7.72-7.72 1.47 1.35L5.41 20z\"/>\n",
              "  </svg>\n",
              "      </button>\n",
              "      \n",
              "  <style>\n",
              "    .colab-df-container {\n",
              "      display:flex;\n",
              "      flex-wrap:wrap;\n",
              "      gap: 12px;\n",
              "    }\n",
              "\n",
              "    .colab-df-convert {\n",
              "      background-color: #E8F0FE;\n",
              "      border: none;\n",
              "      border-radius: 50%;\n",
              "      cursor: pointer;\n",
              "      display: none;\n",
              "      fill: #1967D2;\n",
              "      height: 32px;\n",
              "      padding: 0 0 0 0;\n",
              "      width: 32px;\n",
              "    }\n",
              "\n",
              "    .colab-df-convert:hover {\n",
              "      background-color: #E2EBFA;\n",
              "      box-shadow: 0px 1px 2px rgba(60, 64, 67, 0.3), 0px 1px 3px 1px rgba(60, 64, 67, 0.15);\n",
              "      fill: #174EA6;\n",
              "    }\n",
              "\n",
              "    [theme=dark] .colab-df-convert {\n",
              "      background-color: #3B4455;\n",
              "      fill: #D2E3FC;\n",
              "    }\n",
              "\n",
              "    [theme=dark] .colab-df-convert:hover {\n",
              "      background-color: #434B5C;\n",
              "      box-shadow: 0px 1px 3px 1px rgba(0, 0, 0, 0.15);\n",
              "      filter: drop-shadow(0px 1px 2px rgba(0, 0, 0, 0.3));\n",
              "      fill: #FFFFFF;\n",
              "    }\n",
              "  </style>\n",
              "\n",
              "      <script>\n",
              "        const buttonEl =\n",
              "          document.querySelector('#df-5c33bfd6-dfa5-40a1-90d2-048abacfba54 button.colab-df-convert');\n",
              "        buttonEl.style.display =\n",
              "          google.colab.kernel.accessAllowed ? 'block' : 'none';\n",
              "\n",
              "        async function convertToInteractive(key) {\n",
              "          const element = document.querySelector('#df-5c33bfd6-dfa5-40a1-90d2-048abacfba54');\n",
              "          const dataTable =\n",
              "            await google.colab.kernel.invokeFunction('convertToInteractive',\n",
              "                                                     [key], {});\n",
              "          if (!dataTable) return;\n",
              "\n",
              "          const docLinkHtml = 'Like what you see? Visit the ' +\n",
              "            '<a target=\"_blank\" href=https://colab.research.google.com/notebooks/data_table.ipynb>data table notebook</a>'\n",
              "            + ' to learn more about interactive tables.';\n",
              "          element.innerHTML = '';\n",
              "          dataTable['output_type'] = 'display_data';\n",
              "          await google.colab.output.renderOutput(dataTable, element);\n",
              "          const docLink = document.createElement('div');\n",
              "          docLink.innerHTML = docLinkHtml;\n",
              "          element.appendChild(docLink);\n",
              "        }\n",
              "      </script>\n",
              "    </div>\n",
              "  </div>\n",
              "  "
            ]
          },
          "metadata": {},
          "execution_count": 4
        }
      ]
    },
    {
      "cell_type": "code",
      "source": [
        "#Plotting the Adjusted close value\n",
        "stock_data[['Adj Close']].plot()\n",
        "plt.title(\"Google Adjusted Close\")\n",
        "plt.show()"
      ],
      "metadata": {
        "colab": {
          "base_uri": "https://localhost:8080/",
          "height": 285
        },
        "id": "p2yZLdef3523",
        "outputId": "3b41414e-ef18-487a-94f8-25585e4a4540"
      },
      "execution_count": null,
      "outputs": [
        {
          "output_type": "display_data",
          "data": {
            "text/plain": [
              "<Figure size 432x288 with 1 Axes>"
            ],
            "image/png": "[encoded data removed]"
          },
          "metadata": {
            "needs_background": "light"
          }
        }
      ]
    },
    {
      "cell_type": "code",
      "source": [
        "stock_data.dtypes"
      ],
      "metadata": {
        "colab": {
          "base_uri": "https://localhost:8080/"
        },
        "id": "Js7k5KD60iYy",
        "outputId": "8cb3191f-5342-44ed-cdfb-88a646932e86"
      },
      "execution_count": null,
      "outputs": [
        {
          "output_type": "execute_result",
          "data": {
            "text/plain": [
              "Open         float64\n",
              "High         float64\n",
              "Low          float64\n",
              "Close        float64\n",
              "Adj Close    float64\n",
              "Volume         int64\n",
              "dtype: object"
            ]
          },
          "metadata": {},
          "execution_count": 6
        }
      ]
    },
    {
      "cell_type": "code",
      "source": [
        "stock_data.reset_index(level=0, inplace=True)"
      ],
      "metadata": {
        "id": "rSrx3xye08An"
      },
      "execution_count": null,
      "outputs": []
    },
    {
      "cell_type": "code",
      "source": [
        "stock_data.head()"
      ],
      "metadata": {
        "colab": {
          "base_uri": "https://localhost:8080/",
          "height": 206
        },
        "id": "XCGSFL3z454J",
        "outputId": "82bf432f-c1fe-4984-c8af-ef8cd044b376"
      },
      "execution_count": null,
      "outputs": [
        {
          "output_type": "execute_result",
          "data": {
            "text/plain": [
              "        Date        Open        High         Low       Close   Adj Close  \\\n",
              "0 2013-01-02  357.385559  361.151062  355.959839  359.288177  359.288177   \n",
              "1 2013-01-03  360.122742  363.600128  358.031342  359.496826  359.496826   \n",
              "2 2013-01-04  362.313507  368.339294  361.488861  366.600616  366.600616   \n",
              "3 2013-01-07  365.348755  367.301056  362.929504  365.001007  365.001007   \n",
              "4 2013-01-08  365.393463  365.771027  359.874359  364.280701  364.280701   \n",
              "\n",
              "    Volume  \n",
              "0  5115500  \n",
              "1  4666500  \n",
              "2  5562800  \n",
              "3  3332900  \n",
              "4  3373900  "
            ],
            "text/html": [
              "\n",
              "  <div id=\"df-052b3bbf-4050-4493-92a0-ee54273fff3a\">\n",
              "    <div class=\"colab-df-container\">\n",
              "      <div>\n",
              "<style scoped>\n",
              "    .dataframe tbody tr th:only-of-type {\n",
              "        vertical-align: middle;\n",
              "    }\n",
              "\n",
              "    .dataframe tbody tr th {\n",
              "        vertical-align: top;\n",
              "    }\n",
              "\n",
              "    .dataframe thead th {\n",
              "        text-align: right;\n",
              "    }\n",
              "</style>\n",
              "<table border=\"1\" class=\"dataframe\">\n",
              "  <thead>\n",
              "    <tr style=\"text-align: right;\">\n",
              "      <th></th>\n",
              "      <th>Date</th>\n",
              "      <th>Open</th>\n",
              "      <th>High</th>\n",
              "      <th>Low</th>\n",
              "      <th>Close</th>\n",
              "      <th>Adj Close</th>\n",
              "      <th>Volume</th>\n",
              "    </tr>\n",
              "  </thead>\n",
              "  <tbody>\n",
              "    <tr>\n",
              "      <th>0</th>\n",
              "      <td>2013-01-02</td>\n",
              "      <td>357.385559</td>\n",
              "      <td>361.151062</td>\n",
              "      <td>355.959839</td>\n",
              "      <td>359.288177</td>\n",
              "      <td>359.288177</td>\n",
              "      <td>5115500</td>\n",
              "    </tr>\n",
              "    <tr>\n",
              "      <th>1</th>\n",
              "      <td>2013-01-03</td>\n",
              "      <td>360.122742</td>\n",
              "      <td>363.600128</td>\n",
              "      <td>358.031342</td>\n",
              "      <td>359.496826</td>\n",
              "      <td>359.496826</td>\n",
              "      <td>4666500</td>\n",
              "    </tr>\n",
              "    <tr>\n",
              "      <th>2</th>\n",
              "      <td>2013-01-04</td>\n",
              "      <td>362.313507</td>\n",
              "      <td>368.339294</td>\n",
              "      <td>361.488861</td>\n",
              "      <td>366.600616</td>\n",
              "      <td>366.600616</td>\n",
              "      <td>5562800</td>\n",
              "    </tr>\n",
              "    <tr>\n",
              "      <th>3</th>\n",
              "      <td>2013-01-07</td>\n",
              "      <td>365.348755</td>\n",
              "      <td>367.301056</td>\n",
              "      <td>362.929504</td>\n",
              "      <td>365.001007</td>\n",
              "      <td>365.001007</td>\n",
              "      <td>3332900</td>\n",
              "    </tr>\n",
              "    <tr>\n",
              "      <th>4</th>\n",
              "      <td>2013-01-08</td>\n",
              "      <td>365.393463</td>\n",
              "      <td>365.771027</td>\n",
              "      <td>359.874359</td>\n",
              "      <td>364.280701</td>\n",
              "      <td>364.280701</td>\n",
              "      <td>3373900</td>\n",
              "    </tr>\n",
              "  </tbody>\n",
              "</table>\n",
              "</div>\n",
              "      <button class=\"colab-df-convert\" onclick=\"convertToInteractive('df-052b3bbf-4050-4493-92a0-ee54273fff3a')\"\n",
              "              title=\"Convert this dataframe to an interactive table.\"\n",
              "              style=\"display:none;\">\n",
              "        \n",
              "  <svg xmlns=\"http://www.w3.org/2000/svg\" height=\"24px\"viewBox=\"0 0 24 24\"\n",
              "       width=\"24px\">\n",
              "    <path d=\"M0 0h24v24H0V0z\" fill=\"none\"/>\n",
              "    <path d=\"M18.56 5.44l.94 2.06.94-2.06 2.06-.94-2.06-.94-.94-2.06-.94 2.06-2.06.94zm-11 1L8.5 8.5l.94-2.06 2.06-.94-2.06-.94L8.5 2.5l-.94 2.06-2.06.94zm10 10l.94 2.06.94-2.06 2.06-.94-2.06-.94-.94-2.06-.94 2.06-2.06.94z\"/><path d=\"M17.41 7.96l-1.37-1.37c-.4-.4-.92-.59-1.43-.59-.52 0-1.04.2-1.43.59L10.3 9.45l-7.72 7.72c-.78.78-.78 2.05 0 2.83L4 21.41c.39.39.9.59 1.41.59.51 0 1.02-.2 1.41-.59l7.78-7.78 2.81-2.81c.8-.78.8-2.07 0-2.86zM5.41 20L4 18.59l7.72-7.72 1.47 1.35L5.41 20z\"/>\n",
              "  </svg>\n",
              "      </button>\n",
              "      \n",
              "  <style>\n",
              "    .colab-df-container {\n",
              "      display:flex;\n",
              "      flex-wrap:wrap;\n",
              "      gap: 12px;\n",
              "    }\n",
              "\n",
              "    .colab-df-convert {\n",
              "      background-color: #E8F0FE;\n",
              "      border: none;\n",
              "      border-radius: 50%;\n",
              "      cursor: pointer;\n",
              "      display: none;\n",
              "      fill: #1967D2;\n",
              "      height: 32px;\n",
              "      padding: 0 0 0 0;\n",
              "      width: 32px;\n",
              "    }\n",
              "\n",
              "    .colab-df-convert:hover {\n",
              "      background-color: #E2EBFA;\n",
              "      box-shadow: 0px 1px 2px rgba(60, 64, 67, 0.3), 0px 1px 3px 1px rgba(60, 64, 67, 0.15);\n",
              "      fill: #174EA6;\n",
              "    }\n",
              "\n",
              "    [theme=dark] .colab-df-convert {\n",
              "      background-color: #3B4455;\n",
              "      fill: #D2E3FC;\n",
              "    }\n",
              "\n",
              "    [theme=dark] .colab-df-convert:hover {\n",
              "      background-color: #434B5C;\n",
              "      box-shadow: 0px 1px 3px 1px rgba(0, 0, 0, 0.15);\n",
              "      filter: drop-shadow(0px 1px 2px rgba(0, 0, 0, 0.3));\n",
              "      fill: #FFFFFF;\n",
              "    }\n",
              "  </style>\n",
              "\n",
              "      <script>\n",
              "        const buttonEl =\n",
              "          document.querySelector('#df-052b3bbf-4050-4493-92a0-ee54273fff3a button.colab-df-convert');\n",
              "        buttonEl.style.display =\n",
              "          google.colab.kernel.accessAllowed ? 'block' : 'none';\n",
              "\n",
              "        async function convertToInteractive(key) {\n",
              "          const element = document.querySelector('#df-052b3bbf-4050-4493-92a0-ee54273fff3a');\n",
              "          const dataTable =\n",
              "            await google.colab.kernel.invokeFunction('convertToInteractive',\n",
              "                                                     [key], {});\n",
              "          if (!dataTable) return;\n",
              "\n",
              "          const docLinkHtml = 'Like what you see? Visit the ' +\n",
              "            '<a target=\"_blank\" href=https://colab.research.google.com/notebooks/data_table.ipynb>data table notebook</a>'\n",
              "            + ' to learn more about interactive tables.';\n",
              "          element.innerHTML = '';\n",
              "          dataTable['output_type'] = 'display_data';\n",
              "          await google.colab.output.renderOutput(dataTable, element);\n",
              "          const docLink = document.createElement('div');\n",
              "          docLink.innerHTML = docLinkHtml;\n",
              "          element.appendChild(docLink);\n",
              "        }\n",
              "      </script>\n",
              "    </div>\n",
              "  </div>\n",
              "  "
            ]
          },
          "metadata": {},
          "execution_count": 8
        }
      ]
    },
    {
      "cell_type": "code",
      "source": [
        "#Checking distribuition of time series data across years\n",
        "stock_data['Date'].dt.year.value_counts()"
      ],
      "metadata": {
        "colab": {
          "base_uri": "https://localhost:8080/"
        },
        "id": "xzE_1PRy5R1j",
        "outputId": "9451da0d-1483-48d6-9b1e-ad95851a22a1"
      },
      "execution_count": null,
      "outputs": [
        {
          "output_type": "execute_result",
          "data": {
            "text/plain": [
              "2013    252\n",
              "2014    252\n",
              "2015    252\n",
              "2016    252\n",
              "2017    251\n",
              "Name: Date, dtype: int64"
            ]
          },
          "metadata": {},
          "execution_count": 9
        }
      ]
    },
    {
      "cell_type": "code",
      "source": [
        "#Checking Null Values\n",
        "stock_data.isnull().sum()"
      ],
      "metadata": {
        "colab": {
          "base_uri": "https://localhost:8080/"
        },
        "id": "eVR_vmN8_84d",
        "outputId": "328c9d3d-1f8d-4d8c-c353-51b2e91b6f43"
      },
      "execution_count": null,
      "outputs": [
        {
          "output_type": "execute_result",
          "data": {
            "text/plain": [
              "Date         0\n",
              "Open         0\n",
              "High         0\n",
              "Low          0\n",
              "Close        0\n",
              "Adj Close    0\n",
              "Volume       0\n",
              "dtype: int64"
            ]
          },
          "metadata": {},
          "execution_count": 10
        }
      ]
    },
    {
      "cell_type": "code",
      "source": [
        "stock_data.shape"
      ],
      "metadata": {
        "colab": {
          "base_uri": "https://localhost:8080/"
        },
        "id": "N8b_Nl1XACW2",
        "outputId": "74ae56b7-ba65-4df2-c63c-3ede74dd523b"
      },
      "execution_count": null,
      "outputs": [
        {
          "output_type": "execute_result",
          "data": {
            "text/plain": [
              "(1259, 7)"
            ]
          },
          "metadata": {},
          "execution_count": 11
        }
      ]
    },
    {
      "cell_type": "code",
      "source": [
        "#Splitting into data into test & Training Set\n",
        "train_data, test_data = stock_data[0:int(len(stock_data)*0.8)], stock_data[int(len(stock_data)*0.8):]\n",
        "plt.figure(figsize=(12,7))\n",
        "plt.title('Google Adjusted Close Price')\n",
        "plt.xlabel('Date')\n",
        "plt.ylabel('Adjusted Close Prices')\n",
        "plt.plot(stock_data['Adj Close'], 'blue', label='Training Data')\n",
        "plt.plot(test_data['Adj Close'], 'green', label='Testing Data')\n",
        "plt.xticks(np.arange(0,2000,300), stock_data['Date'].dt.year[0:2000:300])\n",
        "plt.legend()"
      ],
      "metadata": {
        "colab": {
          "base_uri": "https://localhost:8080/",
          "height": 475
        },
        "id": "0lz33_eXAGqS",
        "outputId": "34581a0d-7de8-484c-a540-fdff7d9d1247"
      },
      "execution_count": null,
      "outputs": [
        {
          "output_type": "execute_result",
          "data": {
            "text/plain": [
              "<matplotlib.legend.Legend at 0x7f27eafac610>"
            ]
          },
          "metadata": {},
          "execution_count": 12
        },
        {
          "output_type": "display_data",
          "data": {
            "text/plain": [
              "<Figure size 864x504 with 1 Axes>"
            ],
            "image/png": "[encoded data removed]"
          },
          "metadata": {
            "needs_background": "light"
          }
        }
      ]
    },
    {
      "cell_type": "code",
      "source": [
        "train_data.shape, test_data.shape"
      ],
      "metadata": {
        "colab": {
          "base_uri": "https://localhost:8080/"
        },
        "id": "nLievg49Aej8",
        "outputId": "7497d30b-ec1d-4b7e-b204-08c0c4c33feb"
      },
      "execution_count": null,
      "outputs": [
        {
          "output_type": "execute_result",
          "data": {
            "text/plain": [
              "((1007, 7), (252, 7))"
            ]
          },
          "metadata": {},
          "execution_count": 13
        }
      ]
    },
    {
      "cell_type": "code",
      "source": [
        "from statsmodels.tsa.stattools import adfuller\n",
        "from numpy import log"
      ],
      "metadata": {
        "id": "C9QB8xIJBUIy"
      },
      "execution_count": null,
      "outputs": []
    },
    {
      "cell_type": "code",
      "source": [
        "adfuller(train_data['Adj Close'])"
      ],
      "metadata": {
        "colab": {
          "base_uri": "https://localhost:8080/"
        },
        "id": "IDqRdK2TBX0x",
        "outputId": "167db03b-799a-4fa0-de58-551ac1829f63"
      },
      "execution_count": null,
      "outputs": [
        {
          "output_type": "execute_result",
          "data": {
            "text/plain": [
              "(-1.3235144000628694,\n",
              " 0.6183469733520031,\n",
              " 0,\n",
              " 1006,\n",
              " {'1%': -3.436866962597422,\n",
              "  '10%': -2.5683020002450507,\n",
              "  '5%': -2.864417284603703},\n",
              " 7054.6459541102995)"
            ]
          },
          "metadata": {},
          "execution_count": 15
        }
      ]
    },
    {
      "cell_type": "code",
      "source": [
        "trainS=log(train_data['Adj Close']).diff()\n",
        "adfuller(trainS[1:])"
      ],
      "metadata": {
        "colab": {
          "base_uri": "https://localhost:8080/"
        },
        "id": "7FryeuBBBaIn",
        "outputId": "48eea9bf-7e01-4c0d-a566-951ec16bf4cf"
      },
      "execution_count": null,
      "outputs": [
        {
          "output_type": "execute_result",
          "data": {
            "text/plain": [
              "(-30.58376043708071,\n",
              " 0.0,\n",
              " 0,\n",
              " 1005,\n",
              " {'1%': -3.4368734638130847,\n",
              "  '10%': -2.5683035273879358,\n",
              "  '5%': -2.8644201518188126},\n",
              " -5529.600439188271)"
            ]
          },
          "metadata": {},
          "execution_count": 16
        }
      ]
    },
    {
      "cell_type": "code",
      "source": [
        "testS=log(test_data['Adj Close']).diff()\n",
        "adfuller(testS[1:])"
      ],
      "metadata": {
        "colab": {
          "base_uri": "https://localhost:8080/"
        },
        "id": "MXrLIzV7BcY8",
        "outputId": "be6dd295-8910-4837-b819-65d71b3a174a"
      },
      "execution_count": null,
      "outputs": [
        {
          "output_type": "execute_result",
          "data": {
            "text/plain": [
              "(-15.231252614160367,\n",
              " 5.317527486016436e-28,\n",
              " 0,\n",
              " 250,\n",
              " {'1%': -3.456780859712, '10%': -2.572968544, '5%': -2.8731715065600003},\n",
              " -1496.5260309028895)"
            ]
          },
          "metadata": {},
          "execution_count": 17
        }
      ]
    },
    {
      "cell_type": "code",
      "source": [
        "trainS.plot()"
      ],
      "metadata": {
        "colab": {
          "base_uri": "https://localhost:8080/",
          "height": 283
        },
        "id": "pEh3BkjFBfPn",
        "outputId": "ae14bd9e-1ddb-4d3e-e35a-071b0c59e986"
      },
      "execution_count": null,
      "outputs": [
        {
          "output_type": "execute_result",
          "data": {
            "text/plain": [
              "<matplotlib.axes._subplots.AxesSubplot at 0x7f27e9938450>"
            ]
          },
          "metadata": {},
          "execution_count": 18
        },
        {
          "output_type": "display_data",
          "data": {
            "text/plain": [
              "<Figure size 432x288 with 1 Axes>"
            ],
            "image/png": "[encoded data removed]"
          },
          "metadata": {
            "needs_background": "light"
          }
        }
      ]
    },
    {
      "cell_type": "code",
      "source": [
        "from pmdarima.arima import auto_arima\n",
        "\n",
        "from statsmodels.tsa.arima_model import ARIMA \n",
        "import statsmodels.api as sm"
      ],
      "metadata": {
        "id": "lpcvgBv4BiT9"
      },
      "execution_count": null,
      "outputs": []
    },
    {
      "cell_type": "code",
      "source": [
        "arima_model=auto_arima(trainS[1:],start_p=1,start_q=1,max_p=5,max_q=5,trace=True,error_action='warn',suppress_warnings=True,stepwise=True,random_state=20,n_fits=30)\n"
      ],
      "metadata": {
        "colab": {
          "base_uri": "https://localhost:8080/"
        },
        "id": "ovS0CrsuCLoq",
        "outputId": "d0f081da-aedc-46e3-ed9f-c08e0869ecdf"
      },
      "execution_count": null,
      "outputs": [
        {
          "output_type": "stream",
          "name": "stdout",
          "text": [
            "Performing stepwise search to minimize aic\n",
            " ARIMA(1,0,1)(0,0,0)[0] intercept   : AIC=-5651.223, Time=0.48 sec\n",
            " ARIMA(0,0,0)(0,0,0)[0] intercept   : AIC=-5653.974, Time=0.18 sec\n",
            " ARIMA(1,0,0)(0,0,0)[0] intercept   : AIC=-5653.196, Time=0.16 sec\n",
            " ARIMA(0,0,1)(0,0,0)[0] intercept   : AIC=-5653.222, Time=0.36 sec\n",
            " ARIMA(0,0,0)(0,0,0)[0]             : AIC=-5653.126, Time=0.11 sec\n",
            "\n",
            "Best model:  ARIMA(0,0,0)(0,0,0)[0] intercept\n",
            "Total fit time: 1.304 seconds\n"
          ]
        }
      ]
    },
    {
      "cell_type": "code",
      "source": [
        "arima_model.summary()"
      ],
      "metadata": {
        "colab": {
          "base_uri": "https://localhost:8080/",
          "height": 409
        },
        "id": "Jblr6bvkDCzb",
        "outputId": "d5e1b9fd-0b1a-410f-bca4-39ecaf0360bb"
      },
      "execution_count": null,
      "outputs": [
        {
          "output_type": "execute_result",
          "data": {
            "text/plain": [
              "<class 'statsmodels.iolib.summary.Summary'>\n",
              "\"\"\"\n",
              "                               SARIMAX Results                                \n",
              "==============================================================================\n",
              "Dep. Variable:                      y   No. Observations:                 1006\n",
              "Model:                        SARIMAX   Log Likelihood                2828.987\n",
              "Date:                Thu, 28 Apr 2022   AIC                          -5653.974\n",
              "Time:                        04:04:17   BIC                          -5644.147\n",
              "Sample:                             0   HQIC                         -5650.240\n",
              "                               - 1006                                         \n",
              "Covariance Type:                  opg                                         \n",
              "==============================================================================\n",
              "                 coef    std err          z      P>|z|      [0.025      0.975]\n",
              "------------------------------------------------------------------------------\n",
              "intercept      0.0008      0.001      1.541      0.123      -0.000       0.002\n",
              "sigma2         0.0002   3.27e-06     64.689      0.000       0.000       0.000\n",
              "===================================================================================\n",
              "Ljung-Box (L1) (Q):                   1.23   Jarque-Bera (JB):             14140.71\n",
              "Prob(Q):                              0.27   Prob(JB):                         0.00\n",
              "Heteroskedasticity (H):               0.90   Skew:                             1.83\n",
              "Prob(H) (two-sided):                  0.32   Kurtosis:                        21.00\n",
              "===================================================================================\n",
              "\n",
              "Warnings:\n",
              "[1] Covariance matrix calculated using the outer product of gradients (complex-step).\n",
              "\"\"\""
            ],
            "text/html": [
              "<table class=\"simpletable\">\n",
              "<caption>SARIMAX Results</caption>\n",
              "<tr>\n",
              "  <th>Dep. Variable:</th>           <td>y</td>        <th>  No. Observations:  </th>   <td>1006</td>   \n",
              "</tr>\n",
              "<tr>\n",
              "  <th>Model:</th>                <td>SARIMAX</td>     <th>  Log Likelihood     </th> <td>2828.987</td> \n",
              "</tr>\n",
              "<tr>\n",
              "  <th>Date:</th>            <td>Thu, 28 Apr 2022</td> <th>  AIC                </th> <td>-5653.974</td>\n",
              "</tr>\n",
              "<tr>\n",
              "  <th>Time:</th>                <td>04:04:17</td>     <th>  BIC                </th> <td>-5644.147</td>\n",
              "</tr>\n",
              "<tr>\n",
              "  <th>Sample:</th>                  <td>0</td>        <th>  HQIC               </th> <td>-5650.240</td>\n",
              "</tr>\n",
              "<tr>\n",
              "  <th></th>                      <td> - 1006</td>     <th>                     </th>     <td> </td>    \n",
              "</tr>\n",
              "<tr>\n",
              "  <th>Covariance Type:</th>        <td>opg</td>       <th>                     </th>     <td> </td>    \n",
              "</tr>\n",
              "</table>\n",
              "<table class=\"simpletable\">\n",
              "<tr>\n",
              "      <td></td>         <th>coef</th>     <th>std err</th>      <th>z</th>      <th>P>|z|</th>  <th>[0.025</th>    <th>0.975]</th>  \n",
              "</tr>\n",
              "<tr>\n",
              "  <th>intercept</th> <td>    0.0008</td> <td>    0.001</td> <td>    1.541</td> <td> 0.123</td> <td>   -0.000</td> <td>    0.002</td>\n",
              "</tr>\n",
              "<tr>\n",
              "  <th>sigma2</th>    <td>    0.0002</td> <td> 3.27e-06</td> <td>   64.689</td> <td> 0.000</td> <td>    0.000</td> <td>    0.000</td>\n",
              "</tr>\n",
              "</table>\n",
              "<table class=\"simpletable\">\n",
              "<tr>\n",
              "  <th>Ljung-Box (L1) (Q):</th>     <td>1.23</td> <th>  Jarque-Bera (JB):  </th> <td>14140.71</td>\n",
              "</tr>\n",
              "<tr>\n",
              "  <th>Prob(Q):</th>                <td>0.27</td> <th>  Prob(JB):          </th>   <td>0.00</td>  \n",
              "</tr>\n",
              "<tr>\n",
              "  <th>Heteroskedasticity (H):</th> <td>0.90</td> <th>  Skew:              </th>   <td>1.83</td>  \n",
              "</tr>\n",
              "<tr>\n",
              "  <th>Prob(H) (two-sided):</th>    <td>0.32</td> <th>  Kurtosis:          </th>   <td>21.00</td> \n",
              "</tr>\n",
              "</table><br/><br/>Warnings:<br/>[1] Covariance matrix calculated using the outer product of gradients (complex-step)."
            ]
          },
          "metadata": {},
          "execution_count": 21
        }
      ]
    },
    {
      "cell_type": "code",
      "source": [
        "#Making final predictions using ARIMA function\n",
        "train_ar = trainS[1:].values\n",
        "test_ar = testS[1:].values\n",
        "\n",
        "history = [x for x in train_ar]\n",
        "print(type(history))\n",
        "predictions = list()\n",
        "for t in range(len(test_ar)):\n",
        "    model = sm.tsa.arima.ARIMA(history, order=(0,0,0))\n",
        "    model_fit = model.fit()\n",
        "    output = model_fit.forecast()\n",
        "    yhat = output[0]\n",
        "    predictions.append(yhat)\n",
        "    obs = test_ar[t]\n",
        "    history.append(obs)\n",
        "print('Testing Mean Squared Error: %.5f' % mean_squared_error(test_ar, predictions))\n",
        "print('Testing Mean Absolute Error: %.5f' % mean_absolute_error(test_ar, predictions))"
      ],
      "metadata": {
        "colab": {
          "base_uri": "https://localhost:8080/"
        },
        "id": "99lVDz1_DHly",
        "outputId": "fcfb6ebf-133c-42d1-a536-bf330eff1e14"
      },
      "execution_count": null,
      "outputs": [
        {
          "output_type": "stream",
          "name": "stdout",
          "text": [
            "<class 'list'>\n"
          ]
        },
        {
          "output_type": "stream",
          "name": "stderr",
          "text": [
            "/usr/local/lib/python3.7/dist-packages/statsmodels/base/model.py:606: ConvergenceWarning: Maximum Likelihood optimization failed to converge. Check mle_retvals\n",
            "  ConvergenceWarning)\n",
            "/usr/local/lib/python3.7/dist-packages/statsmodels/base/model.py:606: ConvergenceWarning: Maximum Likelihood optimization failed to converge. Check mle_retvals\n",
            "  ConvergenceWarning)\n",
            "/usr/local/lib/python3.7/dist-packages/statsmodels/base/model.py:606: ConvergenceWarning: Maximum Likelihood optimization failed to converge. Check mle_retvals\n",
            "  ConvergenceWarning)\n",
            "/usr/local/lib/python3.7/dist-packages/statsmodels/base/model.py:606: ConvergenceWarning: Maximum Likelihood optimization failed to converge. Check mle_retvals\n",
            "  ConvergenceWarning)\n",
            "/usr/local/lib/python3.7/dist-packages/statsmodels/base/model.py:606: ConvergenceWarning: Maximum Likelihood optimization failed to converge. Check mle_retvals\n",
            "  ConvergenceWarning)\n",
            "/usr/local/lib/python3.7/dist-packages/statsmodels/base/model.py:606: ConvergenceWarning: Maximum Likelihood optimization failed to converge. Check mle_retvals\n",
            "  ConvergenceWarning)\n",
            "/usr/local/lib/python3.7/dist-packages/statsmodels/base/model.py:606: ConvergenceWarning: Maximum Likelihood optimization failed to converge. Check mle_retvals\n",
            "  ConvergenceWarning)\n"
          ]
        },
        {
          "output_type": "stream",
          "name": "stdout",
          "text": [
            "Testing Mean Squared Error: 0.00009\n",
            "Testing Mean Absolute Error: 0.00697\n"
          ]
        }
      ]
    },
    {
      "cell_type": "code",
      "source": [
        "#Plotting the output\n",
        "plt.figure(figsize=(12,7))\n",
        "plt.plot(trainS[1:], 'green', color='blue', label='Training Data')\n",
        "plt.plot(test_data.index[1:],predictions, color='red', marker='o',\n",
        "         label='Predicted Price')\n",
        "plt.plot(test_data.index[1:], testS[1:].values, color='green', label='Actual Price',alpha=0.3)\n",
        "plt.title('Google Return Prediction:ARIMA model Stationary')\n",
        "plt.xlabel('Dates')\n",
        "plt.ylabel('Adj Prices')\n",
        "plt.xticks(np.arange(0,2000,300), stock_data['Date'].dt.year[0:2000:300])\n",
        "plt.legend()"
      ],
      "metadata": {
        "colab": {
          "base_uri": "https://localhost:8080/",
          "height": 475
        },
        "id": "BF-tud0GDOeF",
        "outputId": "91a0a172-b7a1-4056-b7ac-a924d50a1ac8"
      },
      "execution_count": null,
      "outputs": [
        {
          "output_type": "execute_result",
          "data": {
            "text/plain": [
              "<matplotlib.legend.Legend at 0x7f27d828d1d0>"
            ]
          },
          "metadata": {},
          "execution_count": 23
        },
        {
          "output_type": "display_data",
          "data": {
            "text/plain": [
              "<Figure size 864x504 with 1 Axes>"
            ],
            "image/png": "[encoded data removed]"
          },
          "metadata": {
            "needs_background": "light"
          }
        }
      ]
    },
    {
      "cell_type": "code",
      "source": [
        "testS[1007]=np.log(test_data['Adj Close'][1007])\n",
        "ArimaModel=pd.DataFrame(np.exp(testS.cumsum()))\n",
        "ArimaModel.rename(columns={'Adj Close': 'Y_Test'},inplace=True)"
      ],
      "metadata": {
        "id": "bOycyqDCEuWR"
      },
      "execution_count": null,
      "outputs": []
    },
    {
      "cell_type": "code",
      "source": [
        "PredictedValue=[x.tolist() for x in predictions]\n",
        "PredictedValue=[val for val in PredictedValue ]\n",
        "PredictedValue.insert(0,np.log(test_data['Adj Close'][1007]))\n",
        "ArimaModel['ARIMA_Prediction']=PredictedValue\n",
        "ArimaModel['ARIMA_Prediction']=pd.DataFrame(np.exp(ArimaModel['ARIMA_Prediction'].cumsum()))\n",
        "ArimaModel.drop(ArimaModel.head(1).index, inplace=True)"
      ],
      "metadata": {
        "id": "WbizzyQ7H4oX"
      },
      "execution_count": null,
      "outputs": []
    },
    {
      "cell_type": "code",
      "source": [
        "ArimaModel.head(20)\n"
      ],
      "metadata": {
        "colab": {
          "base_uri": "https://localhost:8080/",
          "height": 677
        },
        "id": "BjRtlnxfGZq4",
        "outputId": "5aa625a8-b21c-43f6-d1fa-94b795bb1581"
      },
      "execution_count": null,
      "outputs": [
        {
          "output_type": "execute_result",
          "data": {
            "text/plain": [
              "          Y_Test  ARIMA_Prediction\n",
              "1008  786.140015        772.413845\n",
              "1009  786.900024        773.021667\n",
              "1010  794.020020        773.630120\n",
              "1011  806.150024        774.245331\n",
              "1012  806.650024        774.872084\n",
              "1013  804.789978        775.499195\n",
              "1014  807.909973        776.124419\n",
              "1015  806.359985        776.752494\n",
              "1016  807.880005        777.378984\n",
              "1017  804.609985        778.006803\n",
              "1018  806.070007        778.631386\n",
              "1019  802.174988        779.257242\n",
              "1020  805.020020        779.879274\n",
              "1021  819.309998        780.503899\n",
              "1022  823.869995        781.141867\n",
              "1023  835.669983        781.783973\n",
              "1024  832.150024        782.436844\n",
              "1025  823.309998        783.086387\n",
              "1026  802.320007        783.727656\n",
              "1027  796.789978        784.349059"
            ],
            "text/html": [
              "\n",
              "  <div id=\"df-00e9a5ff-0f7a-4233-a7fd-882da80653d2\">\n",
              "    <div class=\"colab-df-container\">\n",
              "      <div>\n",
              "<style scoped>\n",
              "    .dataframe tbody tr th:only-of-type {\n",
              "        vertical-align: middle;\n",
              "    }\n",
              "\n",
              "    .dataframe tbody tr th {\n",
              "        vertical-align: top;\n",
              "    }\n",
              "\n",
              "    .dataframe thead th {\n",
              "        text-align: right;\n",
              "    }\n",
              "</style>\n",
              "<table border=\"1\" class=\"dataframe\">\n",
              "  <thead>\n",
              "    <tr style=\"text-align: right;\">\n",
              "      <th></th>\n",
              "      <th>Y_Test</th>\n",
              "      <th>ARIMA_Prediction</th>\n",
              "    </tr>\n",
              "  </thead>\n",
              "  <tbody>\n",
              "    <tr>\n",
              "      <th>1008</th>\n",
              "      <td>786.140015</td>\n",
              "      <td>772.413845</td>\n",
              "    </tr>\n",
              "    <tr>\n",
              "      <th>1009</th>\n",
              "      <td>786.900024</td>\n",
              "      <td>773.021667</td>\n",
              "    </tr>\n",
              "    <tr>\n",
              "      <th>1010</th>\n",
              "      <td>794.020020</td>\n",
              "      <td>773.630120</td>\n",
              "    </tr>\n",
              "    <tr>\n",
              "      <th>1011</th>\n",
              "      <td>806.150024</td>\n",
              "      <td>774.245331</td>\n",
              "    </tr>\n",
              "    <tr>\n",
              "      <th>1012</th>\n",
              "      <td>806.650024</td>\n",
              "      <td>774.872084</td>\n",
              "    </tr>\n",
              "    <tr>\n",
              "      <th>1013</th>\n",
              "      <td>804.789978</td>\n",
              "      <td>775.499195</td>\n",
              "    </tr>\n",
              "    <tr>\n",
              "      <th>1014</th>\n",
              "      <td>807.909973</td>\n",
              "      <td>776.124419</td>\n",
              "    </tr>\n",
              "    <tr>\n",
              "      <th>1015</th>\n",
              "      <td>806.359985</td>\n",
              "      <td>776.752494</td>\n",
              "    </tr>\n",
              "    <tr>\n",
              "      <th>1016</th>\n",
              "      <td>807.880005</td>\n",
              "      <td>777.378984</td>\n",
              "    </tr>\n",
              "    <tr>\n",
              "      <th>1017</th>\n",
              "      <td>804.609985</td>\n",
              "      <td>778.006803</td>\n",
              "    </tr>\n",
              "    <tr>\n",
              "      <th>1018</th>\n",
              "      <td>806.070007</td>\n",
              "      <td>778.631386</td>\n",
              "    </tr>\n",
              "    <tr>\n",
              "      <th>1019</th>\n",
              "      <td>802.174988</td>\n",
              "      <td>779.257242</td>\n",
              "    </tr>\n",
              "    <tr>\n",
              "      <th>1020</th>\n",
              "      <td>805.020020</td>\n",
              "      <td>779.879274</td>\n",
              "    </tr>\n",
              "    <tr>\n",
              "      <th>1021</th>\n",
              "      <td>819.309998</td>\n",
              "      <td>780.503899</td>\n",
              "    </tr>\n",
              "    <tr>\n",
              "      <th>1022</th>\n",
              "      <td>823.869995</td>\n",
              "      <td>781.141867</td>\n",
              "    </tr>\n",
              "    <tr>\n",
              "      <th>1023</th>\n",
              "      <td>835.669983</td>\n",
              "      <td>781.783973</td>\n",
              "    </tr>\n",
              "    <tr>\n",
              "      <th>1024</th>\n",
              "      <td>832.150024</td>\n",
              "      <td>782.436844</td>\n",
              "    </tr>\n",
              "    <tr>\n",
              "      <th>1025</th>\n",
              "      <td>823.309998</td>\n",
              "      <td>783.086387</td>\n",
              "    </tr>\n",
              "    <tr>\n",
              "      <th>1026</th>\n",
              "      <td>802.320007</td>\n",
              "      <td>783.727656</td>\n",
              "    </tr>\n",
              "    <tr>\n",
              "      <th>1027</th>\n",
              "      <td>796.789978</td>\n",
              "      <td>784.349059</td>\n",
              "    </tr>\n",
              "  </tbody>\n",
              "</table>\n",
              "</div>\n",
              "      <button class=\"colab-df-convert\" onclick=\"convertToInteractive('df-00e9a5ff-0f7a-4233-a7fd-882da80653d2')\"\n",
              "              title=\"Convert this dataframe to an interactive table.\"\n",
              "              style=\"display:none;\">\n",
              "        \n",
              "  <svg xmlns=\"http://www.w3.org/2000/svg\" height=\"24px\"viewBox=\"0 0 24 24\"\n",
              "       width=\"24px\">\n",
              "    <path d=\"M0 0h24v24H0V0z\" fill=\"none\"/>\n",
              "    <path d=\"M18.56 5.44l.94 2.06.94-2.06 2.06-.94-2.06-.94-.94-2.06-.94 2.06-2.06.94zm-11 1L8.5 8.5l.94-2.06 2.06-.94-2.06-.94L8.5 2.5l-.94 2.06-2.06.94zm10 10l.94 2.06.94-2.06 2.06-.94-2.06-.94-.94-2.06-.94 2.06-2.06.94z\"/><path d=\"M17.41 7.96l-1.37-1.37c-.4-.4-.92-.59-1.43-.59-.52 0-1.04.2-1.43.59L10.3 9.45l-7.72 7.72c-.78.78-.78 2.05 0 2.83L4 21.41c.39.39.9.59 1.41.59.51 0 1.02-.2 1.41-.59l7.78-7.78 2.81-2.81c.8-.78.8-2.07 0-2.86zM5.41 20L4 18.59l7.72-7.72 1.47 1.35L5.41 20z\"/>\n",
              "  </svg>\n",
              "      </button>\n",
              "      \n",
              "  <style>\n",
              "    .colab-df-container {\n",
              "      display:flex;\n",
              "      flex-wrap:wrap;\n",
              "      gap: 12px;\n",
              "    }\n",
              "\n",
              "    .colab-df-convert {\n",
              "      background-color: #E8F0FE;\n",
              "      border: none;\n",
              "      border-radius: 50%;\n",
              "      cursor: pointer;\n",
              "      display: none;\n",
              "      fill: #1967D2;\n",
              "      height: 32px;\n",
              "      padding: 0 0 0 0;\n",
              "      width: 32px;\n",
              "    }\n",
              "\n",
              "    .colab-df-convert:hover {\n",
              "      background-color: #E2EBFA;\n",
              "      box-shadow: 0px 1px 2px rgba(60, 64, 67, 0.3), 0px 1px 3px 1px rgba(60, 64, 67, 0.15);\n",
              "      fill: #174EA6;\n",
              "    }\n",
              "\n",
              "    [theme=dark] .colab-df-convert {\n",
              "      background-color: #3B4455;\n",
              "      fill: #D2E3FC;\n",
              "    }\n",
              "\n",
              "    [theme=dark] .colab-df-convert:hover {\n",
              "      background-color: #434B5C;\n",
              "      box-shadow: 0px 1px 3px 1px rgba(0, 0, 0, 0.15);\n",
              "      filter: drop-shadow(0px 1px 2px rgba(0, 0, 0, 0.3));\n",
              "      fill: #FFFFFF;\n",
              "    }\n",
              "  </style>\n",
              "\n",
              "      <script>\n",
              "        const buttonEl =\n",
              "          document.querySelector('#df-00e9a5ff-0f7a-4233-a7fd-882da80653d2 button.colab-df-convert');\n",
              "        buttonEl.style.display =\n",
              "          google.colab.kernel.accessAllowed ? 'block' : 'none';\n",
              "\n",
              "        async function convertToInteractive(key) {\n",
              "          const element = document.querySelector('#df-00e9a5ff-0f7a-4233-a7fd-882da80653d2');\n",
              "          const dataTable =\n",
              "            await google.colab.kernel.invokeFunction('convertToInteractive',\n",
              "                                                     [key], {});\n",
              "          if (!dataTable) return;\n",
              "\n",
              "          const docLinkHtml = 'Like what you see? Visit the ' +\n",
              "            '<a target=\"_blank\" href=https://colab.research.google.com/notebooks/data_table.ipynb>data table notebook</a>'\n",
              "            + ' to learn more about interactive tables.';\n",
              "          element.innerHTML = '';\n",
              "          dataTable['output_type'] = 'display_data';\n",
              "          await google.colab.output.renderOutput(dataTable, element);\n",
              "          const docLink = document.createElement('div');\n",
              "          docLink.innerHTML = docLinkHtml;\n",
              "          element.appendChild(docLink);\n",
              "        }\n",
              "      </script>\n",
              "    </div>\n",
              "  </div>\n",
              "  "
            ]
          },
          "metadata": {},
          "execution_count": 26
        }
      ]
    },
    {
      "cell_type": "code",
      "source": [
        "#ARIMA model mean squared error\n",
        "print('RMSE: %.2f' % np.sqrt(mean_squared_error(ArimaModel['Y_Test'], ArimaModel['ARIMA_Prediction'])))"
      ],
      "metadata": {
        "colab": {
          "base_uri": "https://localhost:8080/"
        },
        "id": "D04wyLUzDqHb",
        "outputId": "c433657f-5bea-4787-a791-fac2803c6355"
      },
      "execution_count": null,
      "outputs": [
        {
          "output_type": "stream",
          "name": "stdout",
          "text": [
            "RMSE: 73.23\n"
          ]
        }
      ]
    },
    {
      "cell_type": "code",
      "source": [
        "#ARIMA model mean absolute error\n",
        "print('MAE: %.2f' % mean_absolute_error(ArimaModel['Y_Test'], ArimaModel['ARIMA_Prediction']))"
      ],
      "metadata": {
        "id": "LWi6QKgLarxg",
        "outputId": "8a03e999-eee6-47f9-fe0f-aadaabd6e574",
        "colab": {
          "base_uri": "https://localhost:8080/"
        }
      },
      "execution_count": null,
      "outputs": [
        {
          "output_type": "stream",
          "name": "stdout",
          "text": [
            "MAE: 63.64\n"
          ]
        }
      ]
    },
    {
      "cell_type": "code",
      "source": [
        ""
      ],
      "metadata": {
        "id": "zMOvjwa-awsN"
      },
      "execution_count": null,
      "outputs": []
    }
  ]
}